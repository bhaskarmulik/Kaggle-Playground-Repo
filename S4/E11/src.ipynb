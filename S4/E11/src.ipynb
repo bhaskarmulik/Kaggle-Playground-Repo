{
 "cells": [
  {
   "cell_type": "markdown",
   "metadata": {},
   "source": [
    "# Kaggle Competition - Season 4 Episode 11"
   ]
  },
  {
   "cell_type": "markdown",
   "metadata": {
    "notebookRunGroups": {
     "groupValue": "2"
    }
   },
   "source": [
    "## Initial look at data"
   ]
  },
  {
   "cell_type": "code",
   "execution_count": 90,
   "metadata": {
    "notebookRunGroups": {
     "groupValue": "1"
    }
   },
   "outputs": [],
   "source": [
    "import numpy as np\n",
    "import pandas as pd\n",
    "import matplotlib.pyplot as plt\n",
    "import seaborn as sns"
   ]
  },
  {
   "cell_type": "code",
   "execution_count": 91,
   "metadata": {
    "notebookRunGroups": {
     "groupValue": "1"
    }
   },
   "outputs": [
    {
     "data": {
      "text/html": [
       "<div>\n",
       "<style scoped>\n",
       "    .dataframe tbody tr th:only-of-type {\n",
       "        vertical-align: middle;\n",
       "    }\n",
       "\n",
       "    .dataframe tbody tr th {\n",
       "        vertical-align: top;\n",
       "    }\n",
       "\n",
       "    .dataframe thead th {\n",
       "        text-align: right;\n",
       "    }\n",
       "</style>\n",
       "<table border=\"1\" class=\"dataframe\">\n",
       "  <thead>\n",
       "    <tr style=\"text-align: right;\">\n",
       "      <th></th>\n",
       "      <th>id</th>\n",
       "      <th>Name</th>\n",
       "      <th>Gender</th>\n",
       "      <th>Age</th>\n",
       "      <th>City</th>\n",
       "      <th>Working Professional or Student</th>\n",
       "      <th>Profession</th>\n",
       "      <th>Academic Pressure</th>\n",
       "      <th>Work Pressure</th>\n",
       "      <th>CGPA</th>\n",
       "      <th>Study Satisfaction</th>\n",
       "      <th>Job Satisfaction</th>\n",
       "      <th>Sleep Duration</th>\n",
       "      <th>Dietary Habits</th>\n",
       "      <th>Degree</th>\n",
       "      <th>Have you ever had suicidal thoughts ?</th>\n",
       "      <th>Work/Study Hours</th>\n",
       "      <th>Financial Stress</th>\n",
       "      <th>Family History of Mental Illness</th>\n",
       "      <th>Depression</th>\n",
       "    </tr>\n",
       "  </thead>\n",
       "  <tbody>\n",
       "    <tr>\n",
       "      <th>0</th>\n",
       "      <td>0</td>\n",
       "      <td>Aaradhya</td>\n",
       "      <td>Female</td>\n",
       "      <td>49.0</td>\n",
       "      <td>Ludhiana</td>\n",
       "      <td>Working Professional</td>\n",
       "      <td>Chef</td>\n",
       "      <td>NaN</td>\n",
       "      <td>5.0</td>\n",
       "      <td>NaN</td>\n",
       "      <td>NaN</td>\n",
       "      <td>2.0</td>\n",
       "      <td>More than 8 hours</td>\n",
       "      <td>Healthy</td>\n",
       "      <td>BHM</td>\n",
       "      <td>No</td>\n",
       "      <td>1.0</td>\n",
       "      <td>2.0</td>\n",
       "      <td>No</td>\n",
       "      <td>0</td>\n",
       "    </tr>\n",
       "    <tr>\n",
       "      <th>1</th>\n",
       "      <td>1</td>\n",
       "      <td>Vivan</td>\n",
       "      <td>Male</td>\n",
       "      <td>26.0</td>\n",
       "      <td>Varanasi</td>\n",
       "      <td>Working Professional</td>\n",
       "      <td>Teacher</td>\n",
       "      <td>NaN</td>\n",
       "      <td>4.0</td>\n",
       "      <td>NaN</td>\n",
       "      <td>NaN</td>\n",
       "      <td>3.0</td>\n",
       "      <td>Less than 5 hours</td>\n",
       "      <td>Unhealthy</td>\n",
       "      <td>LLB</td>\n",
       "      <td>Yes</td>\n",
       "      <td>7.0</td>\n",
       "      <td>3.0</td>\n",
       "      <td>No</td>\n",
       "      <td>1</td>\n",
       "    </tr>\n",
       "    <tr>\n",
       "      <th>2</th>\n",
       "      <td>2</td>\n",
       "      <td>Yuvraj</td>\n",
       "      <td>Male</td>\n",
       "      <td>33.0</td>\n",
       "      <td>Visakhapatnam</td>\n",
       "      <td>Student</td>\n",
       "      <td>NaN</td>\n",
       "      <td>5.0</td>\n",
       "      <td>NaN</td>\n",
       "      <td>8.97</td>\n",
       "      <td>2.0</td>\n",
       "      <td>NaN</td>\n",
       "      <td>5-6 hours</td>\n",
       "      <td>Healthy</td>\n",
       "      <td>B.Pharm</td>\n",
       "      <td>Yes</td>\n",
       "      <td>3.0</td>\n",
       "      <td>1.0</td>\n",
       "      <td>No</td>\n",
       "      <td>1</td>\n",
       "    </tr>\n",
       "    <tr>\n",
       "      <th>3</th>\n",
       "      <td>3</td>\n",
       "      <td>Yuvraj</td>\n",
       "      <td>Male</td>\n",
       "      <td>22.0</td>\n",
       "      <td>Mumbai</td>\n",
       "      <td>Working Professional</td>\n",
       "      <td>Teacher</td>\n",
       "      <td>NaN</td>\n",
       "      <td>5.0</td>\n",
       "      <td>NaN</td>\n",
       "      <td>NaN</td>\n",
       "      <td>1.0</td>\n",
       "      <td>Less than 5 hours</td>\n",
       "      <td>Moderate</td>\n",
       "      <td>BBA</td>\n",
       "      <td>Yes</td>\n",
       "      <td>10.0</td>\n",
       "      <td>1.0</td>\n",
       "      <td>Yes</td>\n",
       "      <td>1</td>\n",
       "    </tr>\n",
       "    <tr>\n",
       "      <th>4</th>\n",
       "      <td>4</td>\n",
       "      <td>Rhea</td>\n",
       "      <td>Female</td>\n",
       "      <td>30.0</td>\n",
       "      <td>Kanpur</td>\n",
       "      <td>Working Professional</td>\n",
       "      <td>Business Analyst</td>\n",
       "      <td>NaN</td>\n",
       "      <td>1.0</td>\n",
       "      <td>NaN</td>\n",
       "      <td>NaN</td>\n",
       "      <td>1.0</td>\n",
       "      <td>5-6 hours</td>\n",
       "      <td>Unhealthy</td>\n",
       "      <td>BBA</td>\n",
       "      <td>Yes</td>\n",
       "      <td>9.0</td>\n",
       "      <td>4.0</td>\n",
       "      <td>Yes</td>\n",
       "      <td>0</td>\n",
       "    </tr>\n",
       "  </tbody>\n",
       "</table>\n",
       "</div>"
      ],
      "text/plain": [
       "   id      Name  Gender   Age           City Working Professional or Student  \\\n",
       "0   0  Aaradhya  Female  49.0       Ludhiana            Working Professional   \n",
       "1   1     Vivan    Male  26.0       Varanasi            Working Professional   \n",
       "2   2    Yuvraj    Male  33.0  Visakhapatnam                         Student   \n",
       "3   3    Yuvraj    Male  22.0         Mumbai            Working Professional   \n",
       "4   4      Rhea  Female  30.0         Kanpur            Working Professional   \n",
       "\n",
       "         Profession  Academic Pressure  Work Pressure  CGPA  \\\n",
       "0              Chef                NaN            5.0   NaN   \n",
       "1           Teacher                NaN            4.0   NaN   \n",
       "2               NaN                5.0            NaN  8.97   \n",
       "3           Teacher                NaN            5.0   NaN   \n",
       "4  Business Analyst                NaN            1.0   NaN   \n",
       "\n",
       "   Study Satisfaction  Job Satisfaction     Sleep Duration Dietary Habits  \\\n",
       "0                 NaN               2.0  More than 8 hours        Healthy   \n",
       "1                 NaN               3.0  Less than 5 hours      Unhealthy   \n",
       "2                 2.0               NaN          5-6 hours        Healthy   \n",
       "3                 NaN               1.0  Less than 5 hours       Moderate   \n",
       "4                 NaN               1.0          5-6 hours      Unhealthy   \n",
       "\n",
       "    Degree Have you ever had suicidal thoughts ?  Work/Study Hours  \\\n",
       "0      BHM                                    No               1.0   \n",
       "1      LLB                                   Yes               7.0   \n",
       "2  B.Pharm                                   Yes               3.0   \n",
       "3      BBA                                   Yes              10.0   \n",
       "4      BBA                                   Yes               9.0   \n",
       "\n",
       "   Financial Stress Family History of Mental Illness  Depression  \n",
       "0               2.0                               No           0  \n",
       "1               3.0                               No           1  \n",
       "2               1.0                               No           1  \n",
       "3               1.0                              Yes           1  \n",
       "4               4.0                              Yes           0  "
      ]
     },
     "execution_count": 91,
     "metadata": {},
     "output_type": "execute_result"
    }
   ],
   "source": [
    "train = pd.read_csv('./train.csv')\n",
    "test = pd.read_csv('./test.csv')\n",
    "og = pd.read_csv('./final_depression_dataset_1.csv')\n",
    "train.head()"
   ]
  },
  {
   "cell_type": "code",
   "execution_count": 92,
   "metadata": {
    "notebookRunGroups": {
     "groupValue": "1"
    }
   },
   "outputs": [
    {
     "name": "stdout",
     "output_type": "stream",
     "text": [
      "Size of train data: (140700, 20)\n",
      "Size of test data: (93800, 19)\n",
      "Size of og data: (2556, 19)\n"
     ]
    }
   ],
   "source": [
    "print(f'Size of train data: {train.shape}')\n",
    "print(f'Size of test data: {test.shape}')\n",
    "print(f'Size of og data: {og.shape}')"
   ]
  },
  {
   "cell_type": "markdown",
   "metadata": {},
   "source": [
    "Checking for unique values for every feature"
   ]
  },
  {
   "cell_type": "code",
   "execution_count": 93,
   "metadata": {
    "notebookRunGroups": {
     "groupValue": "1"
    }
   },
   "outputs": [
    {
     "data": {
      "text/html": [
       "<div>\n",
       "<style scoped>\n",
       "    .dataframe tbody tr th:only-of-type {\n",
       "        vertical-align: middle;\n",
       "    }\n",
       "\n",
       "    .dataframe tbody tr th {\n",
       "        vertical-align: top;\n",
       "    }\n",
       "\n",
       "    .dataframe thead th {\n",
       "        text-align: right;\n",
       "    }\n",
       "</style>\n",
       "<table border=\"1\" class=\"dataframe\">\n",
       "  <thead>\n",
       "    <tr style=\"text-align: right;\">\n",
       "      <th></th>\n",
       "      <th>train</th>\n",
       "      <th>test</th>\n",
       "      <th>og</th>\n",
       "    </tr>\n",
       "  </thead>\n",
       "  <tbody>\n",
       "    <tr>\n",
       "      <th>Academic Pressure</th>\n",
       "      <td>5</td>\n",
       "      <td>5.0</td>\n",
       "      <td>5.0</td>\n",
       "    </tr>\n",
       "    <tr>\n",
       "      <th>Age</th>\n",
       "      <td>43</td>\n",
       "      <td>44.0</td>\n",
       "      <td>43.0</td>\n",
       "    </tr>\n",
       "    <tr>\n",
       "      <th>CGPA</th>\n",
       "      <td>331</td>\n",
       "      <td>326.0</td>\n",
       "      <td>312.0</td>\n",
       "    </tr>\n",
       "    <tr>\n",
       "      <th>City</th>\n",
       "      <td>98</td>\n",
       "      <td>68.0</td>\n",
       "      <td>30.0</td>\n",
       "    </tr>\n",
       "    <tr>\n",
       "      <th>Degree</th>\n",
       "      <td>115</td>\n",
       "      <td>87.0</td>\n",
       "      <td>27.0</td>\n",
       "    </tr>\n",
       "    <tr>\n",
       "      <th>Depression</th>\n",
       "      <td>2</td>\n",
       "      <td>NaN</td>\n",
       "      <td>2.0</td>\n",
       "    </tr>\n",
       "    <tr>\n",
       "      <th>Dietary Habits</th>\n",
       "      <td>23</td>\n",
       "      <td>22.0</td>\n",
       "      <td>3.0</td>\n",
       "    </tr>\n",
       "    <tr>\n",
       "      <th>Family History of Mental Illness</th>\n",
       "      <td>2</td>\n",
       "      <td>2.0</td>\n",
       "      <td>2.0</td>\n",
       "    </tr>\n",
       "    <tr>\n",
       "      <th>Financial Stress</th>\n",
       "      <td>5</td>\n",
       "      <td>5.0</td>\n",
       "      <td>5.0</td>\n",
       "    </tr>\n",
       "    <tr>\n",
       "      <th>Gender</th>\n",
       "      <td>2</td>\n",
       "      <td>2.0</td>\n",
       "      <td>2.0</td>\n",
       "    </tr>\n",
       "    <tr>\n",
       "      <th>Have you ever had suicidal thoughts ?</th>\n",
       "      <td>2</td>\n",
       "      <td>2.0</td>\n",
       "      <td>2.0</td>\n",
       "    </tr>\n",
       "    <tr>\n",
       "      <th>Job Satisfaction</th>\n",
       "      <td>5</td>\n",
       "      <td>5.0</td>\n",
       "      <td>5.0</td>\n",
       "    </tr>\n",
       "    <tr>\n",
       "      <th>Name</th>\n",
       "      <td>422</td>\n",
       "      <td>374.0</td>\n",
       "      <td>216.0</td>\n",
       "    </tr>\n",
       "    <tr>\n",
       "      <th>Profession</th>\n",
       "      <td>64</td>\n",
       "      <td>64.0</td>\n",
       "      <td>35.0</td>\n",
       "    </tr>\n",
       "    <tr>\n",
       "      <th>Sleep Duration</th>\n",
       "      <td>36</td>\n",
       "      <td>31.0</td>\n",
       "      <td>4.0</td>\n",
       "    </tr>\n",
       "    <tr>\n",
       "      <th>Study Satisfaction</th>\n",
       "      <td>5</td>\n",
       "      <td>5.0</td>\n",
       "      <td>5.0</td>\n",
       "    </tr>\n",
       "    <tr>\n",
       "      <th>Work Pressure</th>\n",
       "      <td>5</td>\n",
       "      <td>5.0</td>\n",
       "      <td>5.0</td>\n",
       "    </tr>\n",
       "    <tr>\n",
       "      <th>Work/Study Hours</th>\n",
       "      <td>13</td>\n",
       "      <td>13.0</td>\n",
       "      <td>13.0</td>\n",
       "    </tr>\n",
       "    <tr>\n",
       "      <th>Working Professional or Student</th>\n",
       "      <td>2</td>\n",
       "      <td>2.0</td>\n",
       "      <td>2.0</td>\n",
       "    </tr>\n",
       "    <tr>\n",
       "      <th>id</th>\n",
       "      <td>140700</td>\n",
       "      <td>93800.0</td>\n",
       "      <td>NaN</td>\n",
       "    </tr>\n",
       "  </tbody>\n",
       "</table>\n",
       "</div>"
      ],
      "text/plain": [
       "                                        train     test     og\n",
       "Academic Pressure                           5      5.0    5.0\n",
       "Age                                        43     44.0   43.0\n",
       "CGPA                                      331    326.0  312.0\n",
       "City                                       98     68.0   30.0\n",
       "Degree                                    115     87.0   27.0\n",
       "Depression                                  2      NaN    2.0\n",
       "Dietary Habits                             23     22.0    3.0\n",
       "Family History of Mental Illness            2      2.0    2.0\n",
       "Financial Stress                            5      5.0    5.0\n",
       "Gender                                      2      2.0    2.0\n",
       "Have you ever had suicidal thoughts ?       2      2.0    2.0\n",
       "Job Satisfaction                            5      5.0    5.0\n",
       "Name                                      422    374.0  216.0\n",
       "Profession                                 64     64.0   35.0\n",
       "Sleep Duration                             36     31.0    4.0\n",
       "Study Satisfaction                          5      5.0    5.0\n",
       "Work Pressure                               5      5.0    5.0\n",
       "Work/Study Hours                           13     13.0   13.0\n",
       "Working Professional or Student             2      2.0    2.0\n",
       "id                                     140700  93800.0    NaN"
      ]
     },
     "execution_count": 93,
     "metadata": {},
     "output_type": "execute_result"
    }
   ],
   "source": [
    "unique_vals_df = pd.DataFrame({'train': train.nunique(), 'test': test.nunique(), 'og': og.nunique()})\n",
    "unique_vals_df"
   ]
  },
  {
   "cell_type": "code",
   "execution_count": 94,
   "metadata": {},
   "outputs": [],
   "source": [
    "dropping_cols = ['id','Name', 'Academic Pressure', 'CGPA', 'Study Satisfaction']  #Removed the last three features since they have a lot of missing values\n",
    "# Check if columns exist in the dataframe before dropping them to safegaurd against repeated runs\n",
    "dropping_cols = [col for col in dropping_cols if col in train.columns]\n",
    "train.drop(dropping_cols, inplace=True, axis=1)\n",
    "test.drop(dropping_cols, inplace=True, axis=1)\n",
    "og.drop(dropping_cols[1:], inplace=True, axis=1)"
   ]
  },
  {
   "cell_type": "markdown",
   "metadata": {},
   "source": [
    "Create a copy of the dataframe"
   ]
  },
  {
   "cell_type": "code",
   "execution_count": 95,
   "metadata": {
    "notebookRunGroups": {
     "groupValue": "1"
    }
   },
   "outputs": [],
   "source": [
    "temp_og = og.copy()\n",
    "temp_test = test.copy()\n",
    "temp_train = train.copy()"
   ]
  },
  {
   "cell_type": "code",
   "execution_count": 96,
   "metadata": {},
   "outputs": [
    {
     "data": {
      "text/plain": [
       "Gender                                       0\n",
       "Age                                          0\n",
       "City                                         0\n",
       "Working Professional or Student              0\n",
       "Profession                               36630\n",
       "Work Pressure                            27918\n",
       "Job Satisfaction                         27910\n",
       "Sleep Duration                               0\n",
       "Dietary Habits                               4\n",
       "Degree                                       2\n",
       "Have you ever had suicidal thoughts ?        0\n",
       "Work/Study Hours                             0\n",
       "Financial Stress                             4\n",
       "Family History of Mental Illness             0\n",
       "Depression                                   0\n",
       "dtype: int64"
      ]
     },
     "execution_count": 96,
     "metadata": {},
     "output_type": "execute_result"
    }
   ],
   "source": [
    "train.isnull().sum()"
   ]
  },
  {
   "cell_type": "markdown",
   "metadata": {},
   "source": [
    "## Explore the data"
   ]
  },
  {
   "cell_type": "markdown",
   "metadata": {},
   "source": [
    "### Clean features"
   ]
  },
  {
   "cell_type": "markdown",
   "metadata": {
    "notebookRunGroups": {
     "groupValue": "1"
    }
   },
   "source": [
    "##### For degree"
   ]
  },
  {
   "cell_type": "code",
   "execution_count": 97,
   "metadata": {
    "notebookRunGroups": {
     "groupValue": "1"
    }
   },
   "outputs": [],
   "source": [
    "import re\n",
    "\n",
    "# We need to clean this list\n",
    "def clean_string(input_string):\n",
    "    return re.sub(r'[^a-z0-9]', '', str(input_string).lower())\n",
    "\n",
    "og_degree_list = og['Degree'].unique()\n",
    "og_degree_list = [clean_string(x) for x in og_degree_list]"
   ]
  },
  {
   "cell_type": "code",
   "execution_count": 98,
   "metadata": {},
   "outputs": [],
   "source": [
    "# Now, I will first clean the Degree column in the train and test dataframes\n",
    "train['Degree'] = train['Degree'].apply(lambda x: clean_string(x))\n",
    "test['Degree'] = test['Degree'].apply(lambda x: clean_string(x))\n",
    "og['Degree'] = og['Degree'].apply(lambda x: clean_string(x))\n",
    "\n",
    "#Now, I will replace the values in the Degree column in the train and test dataframes with null values if they are not in the final_degree_list\n",
    "train['Degree'] = train['Degree'].apply(lambda x: x if x in og_degree_list else None)\n",
    "test['Degree'] = test['Degree'].apply(lambda x: x if x in og_degree_list else None)\n",
    "og['Degree'] = og['Degree'].apply(lambda x: x if x in og_degree_list else None)"
   ]
  },
  {
   "cell_type": "markdown",
   "metadata": {},
   "source": [
    "##### For Profession"
   ]
  },
  {
   "cell_type": "code",
   "execution_count": 115,
   "metadata": {},
   "outputs": [],
   "source": [
    "og_profession_list = set(og['Profession'].unique())\n",
    "og_profession_list = {clean_string(x) for x in og_profession_list}\n",
    "\n",
    "# Now, I will first clean the Profession column in the train and test dataframes\n",
    "train['Profession'] = train['Profession'].apply(lambda x: clean_string(x))\n",
    "test['Profession'] = test['Profession'].apply(lambda x: clean_string(x))\n",
    "og['Profession'] = og['Profession'].apply(lambda x: clean_string(x))\n",
    "\n",
    "#Now, I will replace the values in the Profession column in the train and test dataframes with null values if they are not in the og_profession_list\n",
    "train['Profession'] = train['Profession'].apply(lambda x: x if x in og_profession_list else None)\n",
    "test['Profession'] = test['Profession'].apply(lambda x: x if x in og_profession_list else None)"
   ]
  },
  {
   "cell_type": "markdown",
   "metadata": {},
   "source": [
    "##### Age"
   ]
  },
  {
   "cell_type": "code",
   "execution_count": 100,
   "metadata": {},
   "outputs": [],
   "source": [
    "# Convert the 'Age' column in the 'train' dataframe to integer type\n",
    "train['Age'] = train['Age'].astype(int)\n",
    "test['Age'] = test['Age'].astype(int)\n",
    "og['Age'] = og['Age'].astype(int)"
   ]
  },
  {
   "cell_type": "markdown",
   "metadata": {},
   "source": [
    "##### City"
   ]
  },
  {
   "cell_type": "code",
   "execution_count": 101,
   "metadata": {},
   "outputs": [],
   "source": [
    "#Lets check the city now\n",
    "#Since we reliably know that the citys in og dataset are correct, we check for the ones that are not present\n",
    "\n",
    "# exclusive_train_city_list = train['City'].unique()[~np.isin(train['City'].unique(), og['City'].unique())]\n",
    "# exclusive_test_city_list = test['City'].unique()[~np.isin(test['City'].unique(), og['City'].unique())]\n",
    "#We didnt include them since they were mostly fabricated\n",
    "final_city_list = set(og['City'].unique()).union(['Gurgaon'])\n",
    "\n",
    "#Now, I will first clean the City column in the train and test dataframes\n",
    "train['City'] = train['City'].apply(lambda x: x if x in final_city_list else None)\n",
    "test['City'] = test['City'].apply(lambda x: x if x in final_city_list else None)\n",
    "og['City'] = og['City'].apply(lambda x: x if x in final_city_list else None)"
   ]
  },
  {
   "cell_type": "markdown",
   "metadata": {},
   "source": [
    "##### Sleep duration"
   ]
  },
  {
   "cell_type": "code",
   "execution_count": 102,
   "metadata": {},
   "outputs": [],
   "source": [
    "og_sleep_list = og['Sleep Duration'].unique()\n",
    "\n",
    "#Now, I will replace the values in the Sleep Duration column in the train and test dataframes with null values if they are not in the og_sleep_list\n",
    "train['Sleep Duration'] = train['Sleep Duration'].apply(lambda x: x if x in og_sleep_list else None)\n",
    "test['Sleep Duration'] = test['Sleep Duration'].apply(lambda x: x if x in og_sleep_list else None)"
   ]
  },
  {
   "cell_type": "markdown",
   "metadata": {},
   "source": [
    "##### Dietary Habits"
   ]
  },
  {
   "cell_type": "code",
   "execution_count": 103,
   "metadata": {},
   "outputs": [],
   "source": [
    "#Now, I will replace the values in the Sleep Duration column in the train and test dataframes with null values if they are not in the og_sleep_list\n",
    "\n",
    "og_diet_list = og['Dietary Habits'].unique()\n",
    "\n",
    "#Now, I will replace the values in the Dietary Habits column in the train and test dataframes with null values if they are not in the og_diet_list\n",
    "train['Dietary Habits'] = train['Dietary Habits'].apply(lambda x: x if x in og_diet_list else None)\n",
    "test['Dietary Habits'] = test['Dietary Habits'].apply(lambda x: x if x in og_diet_list else None)"
   ]
  },
  {
   "cell_type": "markdown",
   "metadata": {},
   "source": [
    "##### Coverting binary cat cols to boolean"
   ]
  },
  {
   "cell_type": "code",
   "execution_count": 104,
   "metadata": {},
   "outputs": [],
   "source": [
    "train.rename(columns={'Have you ever had suicidal thoughts ?' : 'Suicidal Thoughts', 'Gender' : 'is_male', 'Working Professional or Student' : 'is_student', 'Family History of Mental Illness' : 'history_mental_illness' }, inplace=True)\n",
    "\n",
    "test.rename(columns={'Have you ever had suicidal thoughts ?' : 'Suicidal Thoughts', 'Gender' : 'is_male', 'Working Professional or Student' : 'is_student', 'Family History of Mental Illness' : 'history_mental_illness' }, inplace=True)\n",
    "\n",
    "og.rename(columns={'Have you ever had suicidal thoughts ?' : 'Suicidal Thoughts', 'Gender' : 'is_male', 'Working Professional or Student' : 'is_student', 'Family History of Mental Illness' : 'history_mental_illness' }, inplace=True)"
   ]
  },
  {
   "cell_type": "code",
   "execution_count": 105,
   "metadata": {},
   "outputs": [],
   "source": [
    "#Now convert binary cat cols to 0 and 1\n",
    "train['Suicidal Thoughts'] = train['Suicidal Thoughts'].apply(lambda x: 1 if x == 'Yes' else 0)\n",
    "test['Suicidal Thoughts'] = test['Suicidal Thoughts'].apply(lambda x: 1 if x == 'Yes' else 0)\n",
    "og['Suicidal Thoughts'] = og['Suicidal Thoughts'].apply(lambda x: 1 if x == 'Yes' else 0)\n",
    "\n",
    "train['is_male'] = train['is_male'].apply(lambda x : 1 if x == 'Male' else 0)\n",
    "test['is_male'] = test['is_male'].apply(lambda x : 1 if x == 'Male' else 0)\n",
    "og['is_male'] = og['is_male'].apply(lambda x : 1 if x == 'Male' else 0)\n",
    "\n",
    "train['is_student'] = train['is_student'].apply(lambda x : 1 if x == 'Student' else 0)\n",
    "test['is_student'] = test['is_student'].apply(lambda x : 1 if x == 'Student' else 0)\n",
    "og['is_student'] = og['is_student'].apply(lambda x : 1 if x == 'Student' else 0)\n",
    "\n",
    "train['history_mental_illness'] = train['history_mental_illness'].apply(lambda x : 1 if x == 'Yes' else 0)\n",
    "test['history_mental_illness'] = test['history_mental_illness'].apply(lambda x : 1 if x == 'Yes' else 0)\n",
    "og['history_mental_illness'] = og['history_mental_illness'].apply(lambda x : 1 if x == 'Yes' else 0)"
   ]
  },
  {
   "cell_type": "markdown",
   "metadata": {},
   "source": [
    "### Missing values"
   ]
  },
  {
   "cell_type": "code",
   "execution_count": 106,
   "metadata": {},
   "outputs": [
    {
     "data": {
      "text/html": [
       "<div>\n",
       "<style scoped>\n",
       "    .dataframe tbody tr th:only-of-type {\n",
       "        vertical-align: middle;\n",
       "    }\n",
       "\n",
       "    .dataframe tbody tr th {\n",
       "        vertical-align: top;\n",
       "    }\n",
       "\n",
       "    .dataframe thead th {\n",
       "        text-align: right;\n",
       "    }\n",
       "</style>\n",
       "<table border=\"1\" class=\"dataframe\">\n",
       "  <thead>\n",
       "    <tr style=\"text-align: right;\">\n",
       "      <th></th>\n",
       "      <th>train</th>\n",
       "      <th>test</th>\n",
       "      <th>og</th>\n",
       "    </tr>\n",
       "  </thead>\n",
       "  <tbody>\n",
       "    <tr>\n",
       "      <th>City</th>\n",
       "      <td>97</td>\n",
       "      <td>50.0</td>\n",
       "      <td>NaN</td>\n",
       "    </tr>\n",
       "    <tr>\n",
       "      <th>Degree</th>\n",
       "      <td>101</td>\n",
       "      <td>67.0</td>\n",
       "      <td>NaN</td>\n",
       "    </tr>\n",
       "    <tr>\n",
       "      <th>Dietary Habits</th>\n",
       "      <td>27</td>\n",
       "      <td>30.0</td>\n",
       "      <td>NaN</td>\n",
       "    </tr>\n",
       "    <tr>\n",
       "      <th>Financial Stress</th>\n",
       "      <td>4</td>\n",
       "      <td>NaN</td>\n",
       "      <td>NaN</td>\n",
       "    </tr>\n",
       "    <tr>\n",
       "      <th>Job Satisfaction</th>\n",
       "      <td>27910</td>\n",
       "      <td>18774.0</td>\n",
       "      <td>502.0</td>\n",
       "    </tr>\n",
       "    <tr>\n",
       "      <th>Profession</th>\n",
       "      <td>50</td>\n",
       "      <td>44.0</td>\n",
       "      <td>673.0</td>\n",
       "    </tr>\n",
       "    <tr>\n",
       "      <th>Sleep Duration</th>\n",
       "      <td>79</td>\n",
       "      <td>54.0</td>\n",
       "      <td>NaN</td>\n",
       "    </tr>\n",
       "    <tr>\n",
       "      <th>Work Pressure</th>\n",
       "      <td>27918</td>\n",
       "      <td>18778.0</td>\n",
       "      <td>502.0</td>\n",
       "    </tr>\n",
       "  </tbody>\n",
       "</table>\n",
       "</div>"
      ],
      "text/plain": [
       "                  train     test     og\n",
       "City                 97     50.0    NaN\n",
       "Degree              101     67.0    NaN\n",
       "Dietary Habits       27     30.0    NaN\n",
       "Financial Stress      4      NaN    NaN\n",
       "Job Satisfaction  27910  18774.0  502.0\n",
       "Profession           50     44.0  673.0\n",
       "Sleep Duration       79     54.0    NaN\n",
       "Work Pressure     27918  18778.0  502.0"
      ]
     },
     "execution_count": 106,
     "metadata": {},
     "output_type": "execute_result"
    }
   ],
   "source": [
    "#Dataframe of missing values\n",
    "#Checking missing values\n",
    "missing_vals_df = pd.DataFrame({'train': train.isnull().sum().loc[train.isnull().sum()> 0], \n",
    "                                'test': test.isnull().sum().loc[test.isnull().sum()> 0], \n",
    "                                'og': og.isnull().sum().loc[og.isnull().sum()> 0]\n",
    "                                })\n",
    "\n",
    "missing_vals_df"
   ]
  },
  {
   "cell_type": "markdown",
   "metadata": {},
   "source": [
    "Check the nature of these cols\n",
    "\n",
    "- Degree - Categorical\n",
    "- Profession - Categorical\n",
    "- Work pressure - Numerical\n",
    "- Job satisfaction - Numerical\n",
    "- Dietary Habits - Categorical\n",
    "- Financial Stress - Numerical    \n"
   ]
  },
  {
   "cell_type": "markdown",
   "metadata": {},
   "source": [
    "Redundancy to check for enough records after dropping missing values"
   ]
  },
  {
   "cell_type": "code",
   "execution_count": 107,
   "metadata": {},
   "outputs": [],
   "source": [
    "#Check whether there are enough records to train the model\n",
    "# train_without_names = train.drop(['Name', 'id'], axis=1)\n",
    "# number_of_duplicates = train_without_names.duplicated().sum()"
   ]
  },
  {
   "cell_type": "markdown",
   "metadata": {},
   "source": [
    "#### Drop missing value entries with low frequency"
   ]
  },
  {
   "cell_type": "markdown",
   "metadata": {},
   "source": [
    "Degree, Dietary Habits, Financial Stress have low missing values. These can be dropped."
   ]
  },
  {
   "cell_type": "code",
   "execution_count": 108,
   "metadata": {},
   "outputs": [],
   "source": [
    "low_missing_cols = ['Degree', 'Dietary Habits', 'Financial Stress', 'City', 'Sleep Duration']\n",
    "low_missing_cols_train = [col for col in low_missing_cols if col in train.columns]\n",
    "low_missing_cols_test = [col for col in low_missing_cols if col in train.columns]\n",
    "train = train.dropna(subset=low_missing_cols)\n",
    "test = test.dropna(subset=low_missing_cols)"
   ]
  },
  {
   "cell_type": "markdown",
   "metadata": {},
   "source": [
    "#### Dealing with missing value entries with high frequency"
   ]
  },
  {
   "cell_type": "code",
   "execution_count": 110,
   "metadata": {},
   "outputs": [
    {
     "data": {
      "image/png": "[encoded data removed]",
      "text/plain": [
       "<Figure size 1500x1000 with 6 Axes>"
      ]
     },
     "metadata": {},
     "output_type": "display_data"
    }
   ],
   "source": [
    "#Derive high missing frequency cols\n",
    "high_missing_cols= ['Work Pressure', 'Job Satisfaction', 'Profession']\n",
    "datasets_to_vizualize = ['train', 'test', 'og']\n",
    "\n",
    "#There are three high_missing_cols_num and two datasets to visualize\n",
    "#I want to zip them such that for every high_missing_cols_num, I can visualize the distribution in the three datasets\n",
    "fig,ax = plt.subplots(2, 3, figsize=(15, 10))\n",
    "fig.suptitle('Distribution of high_missing_cols_num')\n",
    "# Iterate over each column and dataset\n",
    "for i, col in enumerate(high_missing_cols[:2]):\n",
    "    for j, dataset in enumerate(datasets_to_vizualize):\n",
    "        # plt.title(f'Distribution of {col} in {dataset}')\n",
    "        ax[i, j].set_title(f'Distribution of {col} in {dataset}')\n",
    "        df = eval(dataset)\n",
    "        sns.barplot(data = df, x = df[col].value_counts().index, y = df[col].value_counts().values, ax=ax[i, j])\n",
    "plt.tight_layout()"
   ]
  },
  {
   "cell_type": "code",
   "execution_count": 116,
   "metadata": {},
   "outputs": [
    {
     "data": {
      "text/html": [
       "<div>\n",
       "<style scoped>\n",
       "    .dataframe tbody tr th:only-of-type {\n",
       "        vertical-align: middle;\n",
       "    }\n",
       "\n",
       "    .dataframe tbody tr th {\n",
       "        vertical-align: top;\n",
       "    }\n",
       "\n",
       "    .dataframe thead th {\n",
       "        text-align: right;\n",
       "    }\n",
       "</style>\n",
       "<table border=\"1\" class=\"dataframe\">\n",
       "  <thead>\n",
       "    <tr style=\"text-align: right;\">\n",
       "      <th></th>\n",
       "      <th>is_male</th>\n",
       "      <th>Age</th>\n",
       "      <th>City</th>\n",
       "      <th>is_student</th>\n",
       "      <th>Profession</th>\n",
       "      <th>Work Pressure</th>\n",
       "      <th>Job Satisfaction</th>\n",
       "      <th>Sleep Duration</th>\n",
       "      <th>Dietary Habits</th>\n",
       "      <th>Degree</th>\n",
       "      <th>Suicidal Thoughts</th>\n",
       "      <th>Work/Study Hours</th>\n",
       "      <th>Financial Stress</th>\n",
       "      <th>history_mental_illness</th>\n",
       "      <th>Depression</th>\n",
       "    </tr>\n",
       "  </thead>\n",
       "  <tbody>\n",
       "    <tr>\n",
       "      <th>2284</th>\n",
       "      <td>0</td>\n",
       "      <td>55</td>\n",
       "      <td>Bangalore</td>\n",
       "      <td>0</td>\n",
       "      <td>entrepreneur</td>\n",
       "      <td>4.0</td>\n",
       "      <td>1.0</td>\n",
       "      <td>5-6 hours</td>\n",
       "      <td>Unhealthy</td>\n",
       "      <td>bba</td>\n",
       "      <td>1</td>\n",
       "      <td>9</td>\n",
       "      <td>1</td>\n",
       "      <td>1</td>\n",
       "      <td>No</td>\n",
       "    </tr>\n",
       "    <tr>\n",
       "      <th>1918</th>\n",
       "      <td>0</td>\n",
       "      <td>18</td>\n",
       "      <td>Lucknow</td>\n",
       "      <td>1</td>\n",
       "      <td>nan</td>\n",
       "      <td>NaN</td>\n",
       "      <td>NaN</td>\n",
       "      <td>7-8 hours</td>\n",
       "      <td>Moderate</td>\n",
       "      <td>class12</td>\n",
       "      <td>0</td>\n",
       "      <td>4</td>\n",
       "      <td>1</td>\n",
       "      <td>1</td>\n",
       "      <td>No</td>\n",
       "    </tr>\n",
       "    <tr>\n",
       "      <th>1157</th>\n",
       "      <td>1</td>\n",
       "      <td>27</td>\n",
       "      <td>Agra</td>\n",
       "      <td>1</td>\n",
       "      <td>nan</td>\n",
       "      <td>NaN</td>\n",
       "      <td>NaN</td>\n",
       "      <td>7-8 hours</td>\n",
       "      <td>Healthy</td>\n",
       "      <td>btech</td>\n",
       "      <td>1</td>\n",
       "      <td>8</td>\n",
       "      <td>1</td>\n",
       "      <td>0</td>\n",
       "      <td>Yes</td>\n",
       "    </tr>\n",
       "    <tr>\n",
       "      <th>2079</th>\n",
       "      <td>0</td>\n",
       "      <td>31</td>\n",
       "      <td>Rajkot</td>\n",
       "      <td>0</td>\n",
       "      <td>researchanalyst</td>\n",
       "      <td>4.0</td>\n",
       "      <td>2.0</td>\n",
       "      <td>Less than 5 hours</td>\n",
       "      <td>Healthy</td>\n",
       "      <td>bba</td>\n",
       "      <td>0</td>\n",
       "      <td>10</td>\n",
       "      <td>1</td>\n",
       "      <td>1</td>\n",
       "      <td>No</td>\n",
       "    </tr>\n",
       "    <tr>\n",
       "      <th>480</th>\n",
       "      <td>0</td>\n",
       "      <td>20</td>\n",
       "      <td>Nagpur</td>\n",
       "      <td>0</td>\n",
       "      <td>nan</td>\n",
       "      <td>4.0</td>\n",
       "      <td>5.0</td>\n",
       "      <td>7-8 hours</td>\n",
       "      <td>Healthy</td>\n",
       "      <td>class12</td>\n",
       "      <td>0</td>\n",
       "      <td>2</td>\n",
       "      <td>3</td>\n",
       "      <td>1</td>\n",
       "      <td>No</td>\n",
       "    </tr>\n",
       "  </tbody>\n",
       "</table>\n",
       "</div>"
      ],
      "text/plain": [
       "      is_male  Age       City  is_student       Profession  Work Pressure  \\\n",
       "2284        0   55  Bangalore           0     entrepreneur            4.0   \n",
       "1918        0   18    Lucknow           1              nan            NaN   \n",
       "1157        1   27       Agra           1              nan            NaN   \n",
       "2079        0   31     Rajkot           0  researchanalyst            4.0   \n",
       "480         0   20     Nagpur           0              nan            4.0   \n",
       "\n",
       "      Job Satisfaction     Sleep Duration Dietary Habits   Degree  \\\n",
       "2284               1.0          5-6 hours      Unhealthy      bba   \n",
       "1918               NaN          7-8 hours       Moderate  class12   \n",
       "1157               NaN          7-8 hours        Healthy    btech   \n",
       "2079               2.0  Less than 5 hours        Healthy      bba   \n",
       "480                5.0          7-8 hours        Healthy  class12   \n",
       "\n",
       "      Suicidal Thoughts  Work/Study Hours  Financial Stress  \\\n",
       "2284                  1                 9                 1   \n",
       "1918                  0                 4                 1   \n",
       "1157                  1                 8                 1   \n",
       "2079                  0                10                 1   \n",
       "480                   0                 2                 3   \n",
       "\n",
       "      history_mental_illness Depression  \n",
       "2284                       1         No  \n",
       "1918                       1         No  \n",
       "1157                       0        Yes  \n",
       "2079                       1         No  \n",
       "480                        1         No  "
      ]
     },
     "execution_count": 116,
     "metadata": {},
     "output_type": "execute_result"
    }
   ],
   "source": [
    "#I want to maintain the distribution of the data during imputationṣ"
   ]
  }
 ],
 "metadata": {
  "kernelspec": {
   "display_name": "base",
   "language": "python",
   "name": "python3"
  },
  "language_info": {
   "codemirror_mode": {
    "name": "ipython",
    "version": 3
   },
   "file_extension": ".py",
   "mimetype": "text/x-python",
   "name": "python",
   "nbconvert_exporter": "python",
   "pygments_lexer": "ipython3",
   "version": "3.11.8"
  }
 },
 "nbformat": 4,
 "nbformat_minor": 2
}
